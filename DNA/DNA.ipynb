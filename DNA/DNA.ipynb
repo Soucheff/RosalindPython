{
 "metadata": {
  "language_info": {
   "codemirror_mode": {
    "name": "ipython",
    "version": 3
   },
   "file_extension": ".py",
   "mimetype": "text/x-python",
   "name": "python",
   "nbconvert_exporter": "python",
   "pygments_lexer": "ipython3",
   "version": "3.8.3-final"
  },
  "orig_nbformat": 2,
  "kernelspec": {
   "name": "python_defaultSpec_1600780314324",
   "display_name": "Python 3.8.3 64-bit ('Anaconda3': conda)"
  }
 },
 "nbformat": 4,
 "nbformat_minor": 2,
 "cells": [
  {
   "source": [
    "A Rapid Introduction to Molecular Biology\n",
    "\n",
    "Problem\n",
    "A string is simply an ordered collection of symbols selected from some alphabet and formed into a word; the length of a string is the number of symbols that it contains.\n",
    "\n",
    "An example of a length 21 DNA string (whose alphabet contains the symbols 'A', 'C', 'G', and 'T') is \"ATGCTTCAGAAAGGTCTTACG.\"\n",
    "\n",
    "Given: A DNA string s of length at most 1000 nt.\n",
    "\n",
    "Return: Four integers (separated by spaces) counting the respective number of times that the symbols 'A', 'C', 'G', and 'T' occur in s.\n",
    "\n",
    "Sample Dataset\n",
    "AGCTTTTCATTCTGACTGCAACGGGCAATATGTCTCTGTGTGGATTAAAAAAAGAGTGTCTGATAGCAGC\n",
    "Sample Output\n",
    "20 12 17 21"
   ],
   "cell_type": "markdown",
   "metadata": {}
  },
  {
   "source": [
    "##Import Dataset\n",
    "filename = \"dna_dataset.txt\"\n",
    "try:\n",
    "    f = open(filename,\"r\")\n",
    "except IOError:\n",
    "  print('Nao localizado o arquivo')"
   ],
   "cell_type": "code",
   "metadata": {
    "tags": []
   },
   "execution_count": 1,
   "outputs": []
  },
  {
   "cell_type": "code",
   "execution_count": 2,
   "metadata": {
    "tags": []
   },
   "outputs": [
    {
     "output_type": "stream",
     "name": "stdout",
     "text": "20 12 17 21\n"
    }
   ],
   "source": [
    "dna_ds_str = f.read()\n",
    "\n",
    "DNA_A = dna_ds_str.count(\"A\")\n",
    "DNA_T = dna_ds_str.count(\"T\")\n",
    "DNA_G = dna_ds_str.count(\"G\")\n",
    "DNA_C = dna_ds_str.count(\"C\")\n",
    "print( \"{} {} {} {}\".format(DNA_A,DNA_C,DNA_G,DNA_T))"
   ]
  }
 ]
}