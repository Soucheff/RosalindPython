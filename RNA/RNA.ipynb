{
 "metadata": {
  "language_info": {
   "codemirror_mode": {
    "name": "ipython",
    "version": 3
   },
   "file_extension": ".py",
   "mimetype": "text/x-python",
   "name": "python",
   "nbconvert_exporter": "python",
   "pygments_lexer": "ipython3",
   "version": "3.8.3-final"
  },
  "orig_nbformat": 2,
  "kernelspec": {
   "name": "python_defaultSpec_1600781858309",
   "display_name": "Python 3.8.3 64-bit"
  }
 },
 "nbformat": 4,
 "nbformat_minor": 2,
 "cells": [
  {
   "source": [
    "The Second Nucleic Acidclick to expand\n",
    "Problem\n",
    "An RNA string is a string formed from the alphabet containing 'A', 'C', 'G', and 'U'.\n",
    "\n",
    "Given a DNA string t corresponding to a coding strand, its transcribed RNA string u is formed by replacing all occurrences of 'T' in t with 'U' in u.\n",
    "\n",
    "Given: A DNA string t having length at most 1000 nt.\n",
    "\n",
    "Return: The transcribed RNA string of t.\n",
    "\n",
    "Sample Dataset\n",
    "GATGGAACTTGACTACGTAAATT\n",
    "Sample Output\n",
    "GAUGGAACUUGACUACGUAAAUU\n"
   ],
   "cell_type": "markdown",
   "metadata": {}
  },
  {
   "cell_type": "code",
   "execution_count": 3,
   "metadata": {
    "tags": []
   },
   "outputs": [
    {
     "output_type": "stream",
     "name": "stdout",
     "text": "UUACUUGCCAUAGUAGAUGGAGCGACAGCUCGCACAUCUUGCUCGUAGUUCUCCUACCUAGCUCAGUGUCUAAGUACCGACGAUUUAGUGGGUCAACCGAGAGCACCCUUAGCCACGUUGGGGUUGAGGCCGGCUUGACUAACCUGACAUGAAUUAUCACAACAUGACGCGAUGAUUAGGAGCGCCACGCAACGAGCAAGUCUAAUUAGACUGAAUUCUAAAAUGGAUAUUCCCUUCAGAGGUCGCUCUCUUGGGAUUCUUAACGCCAAACUAUGGUGCACUGAACUCUCUUGACCUGCUACCAAGACGGAAAGGCAGACGACCCGAUCGGGGGUCGGCCAGCUUUGCUAAUUACUCCAGCGGUCACUUGAUUACCAUCCUGGUGCCGCAUUUGGUUGGGAUGCUUUCAGGACUACCAUAAUUGCAGAACCAAGCACAAGGCACUUAUAAAUCAAUGGUCGCGACGGGAUUGCUUAUAAAUAGUCCGUGCUAGGGCAUUUUGUAAGCCCAAGGCGACAAUAUGACGAACACACUAACGGUCAUUAAAACGUCGAAUUGGUUGUAGUCGUAAGCCGUUCCGUAUCUCGAGCAUAACAAAUCUUAUGAGGAAUCGCUACUCGGACUUAGGUCAAAGUUAGAUCCUUUCGCGCAAUUGACGGUUGUCGUUCGAGGAUAGGUGCAUGAACAGAAGAACGAAAGAGAGCCUUUACCGACCUACUGGGAAUACGAAAAGAAUUUGACUCAUGGAUUGCUGGCUUAUAUGGUCUAGGUAAGAGUGGACCUACCCCUUCAUGCAUGCGGAGGGUGGUCUGUAAAGAACGACUUUCCCUGAGAAUCCAAACUGAUAACGACUGAUUCUGUUUGCUGCACCACACAAGAUAAGACUAGGGCUCCAGAACGGUAACGAGUCAU\n"
    }
   ],
   "source": [
    "#Open the file of dataset\n",
    "f = open(\"dna_dataset.txt\",\"r\")\n",
    "dna = f.read()\n",
    "f.close()\n",
    "rna = dna.replace(\"T\",\"U\")\n",
    "print(rna)"
   ]
  }
 ]
}