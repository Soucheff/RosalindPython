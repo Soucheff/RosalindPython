{
 "metadata": {
  "language_info": {
   "codemirror_mode": {
    "name": "ipython",
    "version": 3
   },
   "file_extension": ".py",
   "mimetype": "text/x-python",
   "name": "python",
   "nbconvert_exporter": "python",
   "pygments_lexer": "ipython3",
   "version": "3.8.3-final"
  },
  "orig_nbformat": 2,
  "kernelspec": {
   "name": "python_defaultSpec_1600782471950",
   "display_name": "Python 3.8.3 64-bit"
  }
 },
 "nbformat": 4,
 "nbformat_minor": 2,
 "cells": [
  {
   "source": [
    "The Secondary and Tertiary Structures of DNAclick to expand\n",
    "Problem\n",
    "In DNA strings, symbols 'A' and 'T' are complements of each other, as are 'C' and 'G'.\n",
    "\n",
    "The reverse complement of a DNA string s is the string sc formed by reversing the symbols of s, then taking the complement of each symbol (e.g., the reverse complement of \"GTCA\" is \"TGAC\").\n",
    "\n",
    "Given: A DNA string s of length at most 1000 bp.\n",
    "\n",
    "Return: The reverse complement sc of s.\n",
    "\n",
    "Sample Dataset\n",
    "AAAACCCGGT\n",
    "Sample Output\n",
    "ACCGGGTTTT"
   ],
   "cell_type": "markdown",
   "metadata": {}
  },
  {
   "cell_type": "code",
   "execution_count": 10,
   "metadata": {
    "tags": []
   },
   "outputs": [
    {
     "output_type": "stream",
     "name": "stdout",
     "text": "GCGCTACTCGCTCTCGCGGCGGTTTAAAGCTACATTCCCATCAGCCAAAGCCCTTCAAGCTGGTATAAGAACCACGCATACCATCTCATCGTCACTAACCCCCACTCCCGCTTTCAGGGGGTGTTATTCCCGGTACAGCCCCCGGGCAAATAGACGATTCTAATAAAAAATCCCCATTTCATACTTTATTGCTGTTATGCTATCGATATGCAACGCGTTGATTGCGCTATGGGAGTTAAGCTTTCTCCGTAGGTGAGTGTCTCCTTCCGAGTTTTCAATACAACCTGTAAGGTTGCCTGTTATTGACGTTGCAAGCCGTATTAGTCGCCTCTGTTACACAATGTCCCGTTACTGTACGTCGTGAATGTACAAGCCGCACATCGTACTTTGACAGCATCTACTCCTCGCAGTGCTAACGGAGAATTATGGTATCCTCCGATCATTGTGCGATAATCGAGCCACCACACAACGGTGCATAACAGGTTTGGTGGAGTTCGTTCAAGGACATGTATTTCAAGCTCGGGCTTCGGCAAGGGTAATAGCATGATAAGTGCTCTAGAAAAGGATCGTTTGGCTGCAGATGCGCGACTTCGACTGGGTTGGTTTAGCATAGTTAGCATAGATTTCCGGGCACTTACTCCAGATAGGGCCTTGGATCTCGGTCATTTCACCGACTACGTCTCGTTCATGTCCGGATGGGCGCGCCGGGGCCGTGAGCAATTCATAGACGATCGGGCGTTCATAAGTAGGTTCTGGCTCGTTCACTCAGAGCCCGGTAATTATTCAATCGTGACCAAGGCGGTATA\n"
    }
   ],
   "source": [
    "f = open(\"revc_dataset.txt\",\"r\")\n",
    "dna = f.read()\n",
    "f.close()\n",
    "dna_reverse = \"\"\n",
    "for n in dna[::-1]:\n",
    "    if n == \"A\":\n",
    "        dna_reverse += \"T\"\n",
    "    elif n == \"T\" :\n",
    "        dna_reverse += \"A\"\n",
    "    elif n == \"G\":\n",
    "        dna_reverse += \"C\"\n",
    "    else:\n",
    "        dna_reverse += \"G\"\n",
    "print(dna_reverse)"
   ]
  }
 ]
}