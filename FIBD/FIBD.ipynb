{
 "metadata": {
  "language_info": {
   "codemirror_mode": {
    "name": "ipython",
    "version": 3
   },
   "file_extension": ".py",
   "mimetype": "text/x-python",
   "name": "python",
   "nbconvert_exporter": "python",
   "pygments_lexer": "ipython3",
   "version": "3.8.3-final"
  },
  "orig_nbformat": 2,
  "kernelspec": {
   "name": "python_defaultSpec_1600795612333",
   "display_name": "Python 3.8.3 64-bit"
  }
 },
 "nbformat": 4,
 "nbformat_minor": 2,
 "cells": [
  {
   "source": [
    "Wabbit Season\n",
    "Problem\n",
    "\n",
    "Figure 4. A figure illustrating the propagation of Fibonacci's rabbits if they die after three months.\n",
    "Recall the definition of the Fibonacci numbers from “Rabbits and Recurrence Relations”, which followed the recurrence relation Fn=Fn−1+Fn−2 and assumed that each pair of rabbits reaches maturity in one month and produces a single pair of offspring (one male, one female) each subsequent month.\n",
    "\n",
    "Our aim is to somehow modify this recurrence relation to achieve a dynamic programming solution in the case that all rabbits die out after a fixed number of months. See Figure 4 for a depiction of a rabbit tree in which rabbits live for three months (meaning that they reproduce only twice before dying).\n",
    "\n",
    "Given: Positive integers n≤100 and m≤20.\n",
    "\n",
    "Return: The total number of pairs of rabbits that will remain after the n-th month if all rabbits live for m months.\n",
    "\n",
    "Sample Dataset\n",
    "6 3\n",
    "Sample Output\n",
    "4"
   ],
   "cell_type": "markdown",
   "metadata": {}
  },
  {
   "cell_type": "code",
   "execution_count": 202,
   "metadata": {
    "tags": []
   },
   "outputs": [],
   "source": [
    "###Function\n",
    "def Mortalfib(months,death):\n",
    "    \"\"\" \n",
    "        Return the mortal fibonacci sequence\n",
    "    \n",
    "        Parameters:\n",
    "        months (int): Number of months \n",
    "        death (int): Number of month to death\n",
    "\n",
    "        Returns:\n",
    "        int: Return total the rabbit after Months\n",
    "\n",
    "     \"\"\"\n",
    "\n",
    "    f = [1,1,1]\n",
    "    queue_death = [0 for i in range(death-2)]\n",
    "\n",
    "    queue_death.append(1)\n",
    "    queue_death.append(1)\n",
    "\n",
    "    for n in range(2,months):\n",
    "            f[0] = f[1] + f[2]  - queue_death.pop(0)\n",
    "            queue_death.append(f[1])\n",
    "            f[2] = f[1]\n",
    "            f[1] = f[0]\n",
    "    return f[0]"
   ]
  },
  {
   "cell_type": "code",
   "execution_count": 204,
   "metadata": {
    "tags": []
   },
   "outputs": [
    {
     "output_type": "stream",
     "name": "stdout",
     "text": "12173201065019078436\n"
    }
   ],
   "source": [
    "f = open(\"fibd_dataset.txt\",\"r\")\n",
    "months, death = map(int,f.read().split())\n",
    "f.close()\n",
    "\n",
    "print(Mortalfib(months, death))"
   ]
  },
  {
   "cell_type": "code",
   "execution_count": null,
   "metadata": {},
   "outputs": [],
   "source": []
  }
 ]
}